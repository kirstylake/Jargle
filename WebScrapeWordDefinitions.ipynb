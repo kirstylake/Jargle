{
 "cells": [
  {
   "cell_type": "code",
   "execution_count": 1,
   "id": "6b29d077",
   "metadata": {},
   "outputs": [],
   "source": [
    "import requests\n",
    "import csv\n",
    "\n",
    "def get_definition(word):\n",
    "    url = f\"https://api.dictionaryapi.dev/api/v2/entries/en/{word}\"\n",
    "    response = requests.get(url)\n",
    "    if response.status_code == 200:\n",
    "        data = response.json()\n",
    "        try:\n",
    "            # Extracting the first definition of the first meaning of the first entry\n",
    "            definition = data[0]['meanings'][0]['definitions'][0]['definition']\n",
    "            return definition\n",
    "        except (IndexError, KeyError):\n",
    "            return \"Definition not found.\"\n",
    "    else:\n",
    "        return \"Error in API request.\"\n"
   ]
  },
  {
   "cell_type": "code",
   "execution_count": 2,
   "id": "8a3c8794",
   "metadata": {},
   "outputs": [],
   "source": [
    "def append_to_csv(word, definition):\n",
    "    with open('definitions.csv', 'a', newline='', encoding='utf-8') as file:\n",
    "        writer = csv.writer(file)\n",
    "        writer.writerow([word, definition])"
   ]
  },
  {
   "cell_type": "code",
   "execution_count": 3,
   "id": "5304c194",
   "metadata": {},
   "outputs": [],
   "source": [
    "def main():\n",
    "    word = input(\"Enter a word to find its definition: \").strip()\n",
    "    definition = get_definition(word)\n",
    "    print(f\"Definition of '{word}': {definition}\")\n",
    "    append_to_csv(word, definition)"
   ]
  },
  {
   "cell_type": "code",
   "execution_count": 5,
   "id": "46503938",
   "metadata": {},
   "outputs": [
    {
     "name": "stdout",
     "output_type": "stream",
     "text": [
      "Enter a word to find its definition: brain fart\n",
      "Definition of 'brain fart': Something ill-considered and said or done impulsively.\n"
     ]
    }
   ],
   "source": [
    "if __name__ == \"__main__\":\n",
    "    main()"
   ]
  },
  {
   "cell_type": "code",
   "execution_count": null,
   "id": "eeb899a7",
   "metadata": {},
   "outputs": [],
   "source": []
  }
 ],
 "metadata": {
  "kernelspec": {
   "display_name": "Python 3 (ipykernel)",
   "language": "python",
   "name": "python3"
  },
  "language_info": {
   "codemirror_mode": {
    "name": "ipython",
    "version": 3
   },
   "file_extension": ".py",
   "mimetype": "text/x-python",
   "name": "python",
   "nbconvert_exporter": "python",
   "pygments_lexer": "ipython3",
   "version": "3.10.4"
  }
 },
 "nbformat": 4,
 "nbformat_minor": 5
}
